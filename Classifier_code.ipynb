{
 "cells": [
  {
   "cell_type": "code",
   "execution_count": 1,
   "id": "6c5dc42c",
   "metadata": {
    "ExecuteTime": {
     "end_time": "2022-04-27T10:43:35.961894Z",
     "start_time": "2022-04-27T10:43:33.912177Z"
    },
    "execution": {
     "iopub.execute_input": "2022-05-18T18:07:01.220150Z",
     "iopub.status.busy": "2022-05-18T18:07:01.219190Z",
     "iopub.status.idle": "2022-05-18T18:07:08.881079Z",
     "shell.execute_reply": "2022-05-18T18:07:08.880314Z"
    },
    "papermill": {
     "duration": 7.694085,
     "end_time": "2022-05-18T18:07:08.883395",
     "exception": false,
     "start_time": "2022-05-18T18:07:01.189310",
     "status": "completed"
    },
    "tags": []
   },
   "outputs": [],
   "source": [
    "import transformers\n",
    "from transformers import AutoModel, AutoTokenizer,AutoConfig, BertModel, BertTokenizer,BertConfig, AdamW, get_linear_schedule_with_warmup\n",
    "\n",
    "import torch\n",
    "from torch import nn, optim\n",
    "from torch.utils.data import Dataset, DataLoader\n",
    "import torch.nn.functional as F\n",
    "\n",
    "\n",
    "import random,os \n",
    "import numpy as np\n",
    "import pandas as pd\n",
    "import seaborn as sns\n",
    "from pylab import rcParams\n",
    "import matplotlib.pyplot as plt\n",
    "from matplotlib import rc\n",
    "from sklearn.model_selection import train_test_split\n",
    "from sklearn.metrics import confusion_matrix, classification_report\n",
    "from collections import defaultdict\n",
    "from textwrap import wrap\n",
    "import warnings\n",
    "warnings.filterwarnings('ignore')"
   ]
  },
  {
   "cell_type": "code",
   "execution_count": 2,
   "id": "6f5f6da9",
   "metadata": {
    "ExecuteTime": {
     "end_time": "2022-04-27T10:43:35.99431Z",
     "start_time": "2022-04-27T10:43:35.979779Z"
    },
    "execution": {
     "iopub.execute_input": "2022-05-18T18:07:08.933455Z",
     "iopub.status.busy": "2022-05-18T18:07:08.933195Z",
     "iopub.status.idle": "2022-05-18T18:07:08.941074Z",
     "shell.execute_reply": "2022-05-18T18:07:08.940421Z"
    },
    "papermill": {
     "duration": 0.034638,
     "end_time": "2022-05-18T18:07:08.942811",
     "exception": false,
     "start_time": "2022-05-18T18:07:08.908173",
     "status": "completed"
    },
    "tags": []
   },
   "outputs": [],
   "source": [
    "def seed_torch(seed):\n",
    "    seed = int(seed)\n",
    "    random.seed(seed)\n",
    "    os.environ['PYTHONHASHSEED'] = str(seed)\n",
    "    np.random.seed(seed)\n",
    "    torch.manual_seed(seed)\n",
    "    torch.cuda.manual_seed(seed)\n",
    "    torch.cuda.manual_seed_all(seed)\n",
    "    torch.backends.cudnn.deterministic =True\n",
    "RANDOM_SEED = 42\n",
    "seed_torch(RANDOM_SEED)"
   ]
  },
  {
   "cell_type": "code",
   "execution_count": 3,
   "id": "c4b68a30",
   "metadata": {
    "ExecuteTime": {
     "end_time": "2022-04-27T10:43:36.026107Z",
     "start_time": "2022-04-27T10:43:35.995311Z"
    },
    "execution": {
     "iopub.execute_input": "2022-05-18T18:07:08.994210Z",
     "iopub.status.busy": "2022-05-18T18:07:08.993482Z",
     "iopub.status.idle": "2022-05-18T18:07:09.056209Z",
     "shell.execute_reply": "2022-05-18T18:07:09.055509Z"
    },
    "papermill": {
     "duration": 0.092245,
     "end_time": "2022-05-18T18:07:09.058850",
     "exception": false,
     "start_time": "2022-05-18T18:07:08.966605",
     "status": "completed"
    },
    "tags": []
   },
   "outputs": [
    {
     "data": {
      "text/plain": [
       "device(type='cuda')"
      ]
     },
     "execution_count": 3,
     "metadata": {},
     "output_type": "execute_result"
    }
   ],
   "source": [
    "device = torch.device(\"cuda\" if torch.cuda.is_available() else \"cpu\")\n",
    "device"
   ]
  },
  {
   "cell_type": "code",
   "execution_count": 4,
   "id": "95c980ea",
   "metadata": {
    "ExecuteTime": {
     "end_time": "2022-04-27T10:43:39.862738Z",
     "start_time": "2022-04-27T10:43:36.308619Z"
    },
    "execution": {
     "iopub.execute_input": "2022-05-18T18:07:09.109037Z",
     "iopub.status.busy": "2022-05-18T18:07:09.108773Z",
     "iopub.status.idle": "2022-05-18T18:07:16.109500Z",
     "shell.execute_reply": "2022-05-18T18:07:16.108704Z"
    },
    "papermill": {
     "duration": 7.029008,
     "end_time": "2022-05-18T18:07:16.112195",
     "exception": false,
     "start_time": "2022-05-18T18:07:09.083187",
     "status": "completed"
    },
    "tags": []
   },
   "outputs": [
    {
     "name": "stdout",
     "output_type": "stream",
     "text": [
      "train.shape：(200000, 4),test.shape：(100000, 3),sub.shape：(100000, 2)\n"
     ]
    }
   ],
   "source": [
    "train=pd.read_csv('../input/comp3027j-assignment2-bdic2022/train.csv')\n",
    "test=pd.read_csv('../input/comp3027j-assignment2-bdic2022/test.csv')\n",
    "sub=pd.read_csv('../input/comp3027j-assignment2-bdic2022/sample_submission.csv')\n",
    "print(\"train.shape：{},test.shape：{},sub.shape：{}\".format(train.shape,test.shape,sub.shape))"
   ]
  },
  {
   "cell_type": "code",
   "execution_count": 5,
   "id": "1d40271d",
   "metadata": {
    "ExecuteTime": {
     "end_time": "2022-04-27T10:43:40.319729Z",
     "start_time": "2022-04-27T10:43:39.863738Z"
    },
    "execution": {
     "iopub.execute_input": "2022-05-18T18:07:16.164608Z",
     "iopub.status.busy": "2022-05-18T18:07:16.164127Z",
     "iopub.status.idle": "2022-05-18T18:07:16.860778Z",
     "shell.execute_reply": "2022-05-18T18:07:16.860047Z"
    },
    "papermill": {
     "duration": 0.724736,
     "end_time": "2022-05-18T18:07:16.862866",
     "exception": false,
     "start_time": "2022-05-18T18:07:16.138130",
     "status": "completed"
    },
    "tags": []
   },
   "outputs": [],
   "source": [
    "train['text'] = train['title'] + '[SEP] ' + train['body']\n",
    "train['text'] = train['text'].apply(lambda x:x.lower())\n",
    "X, y = train['text'], train['category']"
   ]
  },
  {
   "cell_type": "code",
   "execution_count": 6,
   "id": "0fa494aa",
   "metadata": {
    "ExecuteTime": {
     "end_time": "2022-04-27T10:40:45.747185Z",
     "start_time": "2022-04-27T10:40:45.731194Z"
    },
    "execution": {
     "iopub.execute_input": "2022-05-18T18:07:16.913851Z",
     "iopub.status.busy": "2022-05-18T18:07:16.913187Z",
     "iopub.status.idle": "2022-05-18T18:07:16.925803Z",
     "shell.execute_reply": "2022-05-18T18:07:16.925132Z"
    },
    "papermill": {
     "duration": 0.040242,
     "end_time": "2022-05-18T18:07:16.927664",
     "exception": false,
     "start_time": "2022-05-18T18:07:16.887422",
     "status": "completed"
    },
    "tags": []
   },
   "outputs": [
    {
     "data": {
      "text/plain": [
       "4     29404\n",
       "26    26094\n",
       "9     19605\n",
       "2     15210\n",
       "1     10364\n",
       "0      9658\n",
       "7      8140\n",
       "8      7497\n",
       "13     7103\n",
       "14     5441\n",
       "29     4993\n",
       "12     4652\n",
       "17     4489\n",
       "27     4068\n",
       "25     3767\n",
       "30     3685\n",
       "24     3404\n",
       "11     2955\n",
       "10     2771\n",
       "22     2580\n",
       "31     2422\n",
       "16     2389\n",
       "28     2369\n",
       "3      2296\n",
       "19     2244\n",
       "5      2160\n",
       "20     2053\n",
       "21     2041\n",
       "15     1759\n",
       "6      1541\n",
       "18     1460\n",
       "23     1386\n",
       "Name: category, dtype: int64"
      ]
     },
     "execution_count": 6,
     "metadata": {},
     "output_type": "execute_result"
    }
   ],
   "source": [
    "y.value_counts()"
   ]
  },
  {
   "cell_type": "code",
   "execution_count": 7,
   "id": "7b74ec10",
   "metadata": {
    "ExecuteTime": {
     "end_time": "2022-04-27T10:43:40.864485Z",
     "start_time": "2022-04-27T10:43:40.797368Z"
    },
    "execution": {
     "iopub.execute_input": "2022-05-18T18:07:16.979133Z",
     "iopub.status.busy": "2022-05-18T18:07:16.978884Z",
     "iopub.status.idle": "2022-05-18T18:07:17.093586Z",
     "shell.execute_reply": "2022-05-18T18:07:17.092764Z"
    },
    "papermill": {
     "duration": 0.143178,
     "end_time": "2022-05-18T18:07:17.095805",
     "exception": false,
     "start_time": "2022-05-18T18:07:16.952627",
     "status": "completed"
    },
    "tags": []
   },
   "outputs": [],
   "source": [
    "X_train,X_test,y_train,y_test = train_test_split(X,y,stratify=y,test_size=0.2, random_state=RANDOM_SEED)"
   ]
  },
  {
   "cell_type": "code",
   "execution_count": 8,
   "id": "2d255780",
   "metadata": {
    "ExecuteTime": {
     "end_time": "2022-04-27T10:40:45.842611Z",
     "start_time": "2022-04-27T10:40:45.827609Z"
    },
    "execution": {
     "iopub.execute_input": "2022-05-18T18:07:17.146964Z",
     "iopub.status.busy": "2022-05-18T18:07:17.146706Z",
     "iopub.status.idle": "2022-05-18T18:07:17.151849Z",
     "shell.execute_reply": "2022-05-18T18:07:17.151200Z"
    },
    "papermill": {
     "duration": 0.032778,
     "end_time": "2022-05-18T18:07:17.153617",
     "exception": false,
     "start_time": "2022-05-18T18:07:17.120839",
     "status": "completed"
    },
    "tags": []
   },
   "outputs": [
    {
     "data": {
      "text/plain": [
       "((160000,), (40000,))"
      ]
     },
     "execution_count": 8,
     "metadata": {},
     "output_type": "execute_result"
    }
   ],
   "source": [
    "X_train.shape,X_test.shape"
   ]
  },
  {
   "cell_type": "code",
   "execution_count": 9,
   "id": "2570bd09",
   "metadata": {
    "ExecuteTime": {
     "end_time": "2022-04-27T10:40:47.428103Z",
     "start_time": "2022-04-27T10:40:45.843612Z"
    },
    "execution": {
     "iopub.execute_input": "2022-05-18T18:07:17.205541Z",
     "iopub.status.busy": "2022-05-18T18:07:17.204885Z",
     "iopub.status.idle": "2022-05-18T18:07:19.639050Z",
     "shell.execute_reply": "2022-05-18T18:07:19.638361Z"
    },
    "papermill": {
     "duration": 2.461937,
     "end_time": "2022-05-18T18:07:19.640824",
     "exception": false,
     "start_time": "2022-05-18T18:07:17.178887",
     "status": "completed"
    },
    "tags": []
   },
   "outputs": [
    {
     "data": {
      "text/plain": [
       "count    200000.000000\n",
       "mean        241.759190\n",
       "std         466.160979\n",
       "min           3.000000\n",
       "25%          28.000000\n",
       "50%          43.000000\n",
       "75%         302.000000\n",
       "max       37465.000000\n",
       "Name: text, dtype: float64"
      ]
     },
     "execution_count": 9,
     "metadata": {},
     "output_type": "execute_result"
    }
   ],
   "source": [
    "train['text'].apply(lambda x:len(x.split(' '))).describe()"
   ]
  },
  {
   "cell_type": "code",
   "execution_count": 10,
   "id": "970e33e4",
   "metadata": {
    "ExecuteTime": {
     "end_time": "2022-04-27T10:40:49.041822Z",
     "start_time": "2022-04-27T10:40:47.43025Z"
    },
    "execution": {
     "iopub.execute_input": "2022-05-18T18:07:19.693595Z",
     "iopub.status.busy": "2022-05-18T18:07:19.692988Z",
     "iopub.status.idle": "2022-05-18T18:07:22.281082Z",
     "shell.execute_reply": "2022-05-18T18:07:22.280347Z"
    },
    "papermill": {
     "duration": 2.61639,
     "end_time": "2022-05-18T18:07:22.282832",
     "exception": false,
     "start_time": "2022-05-18T18:07:19.666442",
     "status": "completed"
    },
    "tags": []
   },
   "outputs": [
    {
     "data": {
      "text/plain": [
       "(160438, 5)"
      ]
     },
     "execution_count": 10,
     "metadata": {},
     "output_type": "execute_result"
    }
   ],
   "source": [
    "train[train['text'].apply(lambda x:len(x.split(' ')))<400].shape"
   ]
  },
  {
   "cell_type": "code",
   "execution_count": 11,
   "id": "458412b3",
   "metadata": {
    "ExecuteTime": {
     "end_time": "2022-04-27T10:44:57.627118Z",
     "start_time": "2022-04-27T10:44:48.047559Z"
    },
    "execution": {
     "iopub.execute_input": "2022-05-18T18:07:22.336248Z",
     "iopub.status.busy": "2022-05-18T18:07:22.335723Z",
     "iopub.status.idle": "2022-05-18T18:07:27.547236Z",
     "shell.execute_reply": "2022-05-18T18:07:27.546482Z"
    },
    "papermill": {
     "duration": 5.240187,
     "end_time": "2022-05-18T18:07:27.549328",
     "exception": false,
     "start_time": "2022-05-18T18:07:22.309141",
     "status": "completed"
    },
    "tags": []
   },
   "outputs": [
    {
     "data": {
      "application/vnd.jupyter.widget-view+json": {
       "model_id": "e923dc0bdf984de083a4d62fa6fc23af",
       "version_major": 2,
       "version_minor": 0
      },
      "text/plain": [
       "Downloading:   0%|          | 0.00/28.0 [00:00<?, ?B/s]"
      ]
     },
     "metadata": {},
     "output_type": "display_data"
    },
    {
     "data": {
      "application/vnd.jupyter.widget-view+json": {
       "model_id": "dcac6887d05e4337a529d58774370487",
       "version_major": 2,
       "version_minor": 0
      },
      "text/plain": [
       "Downloading:   0%|          | 0.00/570 [00:00<?, ?B/s]"
      ]
     },
     "metadata": {},
     "output_type": "display_data"
    },
    {
     "data": {
      "application/vnd.jupyter.widget-view+json": {
       "model_id": "c8f6cd835bf64ef6ab9c27f693ea2d09",
       "version_major": 2,
       "version_minor": 0
      },
      "text/plain": [
       "Downloading:   0%|          | 0.00/226k [00:00<?, ?B/s]"
      ]
     },
     "metadata": {},
     "output_type": "display_data"
    },
    {
     "data": {
      "application/vnd.jupyter.widget-view+json": {
       "model_id": "0bd3308664f741d98f26790e409e8589",
       "version_major": 2,
       "version_minor": 0
      },
      "text/plain": [
       "Downloading:   0%|          | 0.00/455k [00:00<?, ?B/s]"
      ]
     },
     "metadata": {},
     "output_type": "display_data"
    }
   ],
   "source": [
    "PRE_TRAINED_MODEL_NAME = 'bert-base-uncased'\n",
    "tokenizer = AutoTokenizer.from_pretrained(PRE_TRAINED_MODEL_NAME)"
   ]
  },
  {
   "cell_type": "code",
   "execution_count": 12,
   "id": "10f9b5d8",
   "metadata": {
    "ExecuteTime": {
     "end_time": "2022-04-27T10:45:07.122684Z",
     "start_time": "2022-04-27T10:45:07.110015Z"
    },
    "execution": {
     "iopub.execute_input": "2022-05-18T18:07:27.607232Z",
     "iopub.status.busy": "2022-05-18T18:07:27.606970Z",
     "iopub.status.idle": "2022-05-18T18:07:27.614246Z",
     "shell.execute_reply": "2022-05-18T18:07:27.613548Z"
    },
    "papermill": {
     "duration": 0.038245,
     "end_time": "2022-05-18T18:07:27.616107",
     "exception": false,
     "start_time": "2022-05-18T18:07:27.577862",
     "status": "completed"
    },
    "tags": []
   },
   "outputs": [],
   "source": [
    "class NewsDataset(Dataset):\n",
    "    def __init__(self,texts,labels,tokenizer,max_len):\n",
    "        self.texts=texts\n",
    "        self.labels=labels\n",
    "        self.tokenizer=tokenizer\n",
    "        self.max_len=max_len\n",
    "    def __len__(self):\n",
    "        return len(self.texts)\n",
    "    \n",
    "    def __getitem__(self,item):\n",
    "        text=str(self.texts[item])\n",
    "        label=self.labels[item]\n",
    "        \n",
    "        encoding=self.tokenizer.encode_plus(\n",
    "            text,\n",
    "            add_special_tokens=True,\n",
    "            max_length=self.max_len,\n",
    "            return_token_type_ids=True,\n",
    "            pad_to_max_length=True,\n",
    "            return_attention_mask=True,\n",
    "            return_tensors='pt',\n",
    "        )\n",
    "        \n",
    "        return {\n",
    "            'input_ids':encoding['input_ids'].flatten(),\n",
    "            'attention_mask':encoding['attention_mask'].flatten(),\n",
    "            'labels':torch.tensor(label,dtype=torch.long)\n",
    "        }"
   ]
  },
  {
   "cell_type": "code",
   "execution_count": 13,
   "id": "154729d3",
   "metadata": {
    "ExecuteTime": {
     "end_time": "2022-04-27T10:45:09.180777Z",
     "start_time": "2022-04-27T10:45:09.16407Z"
    },
    "execution": {
     "iopub.execute_input": "2022-05-18T18:07:27.673033Z",
     "iopub.status.busy": "2022-05-18T18:07:27.672541Z",
     "iopub.status.idle": "2022-05-18T18:07:27.678732Z",
     "shell.execute_reply": "2022-05-18T18:07:27.678051Z"
    },
    "papermill": {
     "duration": 0.03693,
     "end_time": "2022-05-18T18:07:27.680548",
     "exception": false,
     "start_time": "2022-05-18T18:07:27.643618",
     "status": "completed"
    },
    "tags": []
   },
   "outputs": [],
   "source": [
    "def create_data_loader(X,y,tokenizer,max_len,batch_size):\n",
    "    ds=NewsDataset(\n",
    "        texts=X.values,\n",
    "        labels=y.values,\n",
    "        tokenizer=tokenizer,\n",
    "        max_len=max_len\n",
    "    )\n",
    "    \n",
    "    return DataLoader(\n",
    "        ds,\n",
    "        batch_size=batch_size,\n",
    "    )"
   ]
  },
  {
   "cell_type": "code",
   "execution_count": 14,
   "id": "1fdf455c",
   "metadata": {
    "ExecuteTime": {
     "end_time": "2022-04-27T10:45:09.997418Z",
     "start_time": "2022-04-27T10:45:09.979424Z"
    },
    "execution": {
     "iopub.execute_input": "2022-05-18T18:07:27.738311Z",
     "iopub.status.busy": "2022-05-18T18:07:27.737582Z",
     "iopub.status.idle": "2022-05-18T18:07:27.742327Z",
     "shell.execute_reply": "2022-05-18T18:07:27.741619Z"
    },
    "papermill": {
     "duration": 0.03523,
     "end_time": "2022-05-18T18:07:27.744142",
     "exception": false,
     "start_time": "2022-05-18T18:07:27.708912",
     "status": "completed"
    },
    "tags": []
   },
   "outputs": [],
   "source": [
    "BATCH_SIZE = 4\n",
    "MAX_LEN = 300\n",
    "train_data_loader = create_data_loader(X_train,y_train, tokenizer, MAX_LEN, BATCH_SIZE)\n",
    "val_data_loader = create_data_loader(X_test,y_test, tokenizer, MAX_LEN, BATCH_SIZE)"
   ]
  },
  {
   "cell_type": "code",
   "execution_count": 15,
   "id": "22eddcb5",
   "metadata": {
    "ExecuteTime": {
     "end_time": "2022-04-27T10:45:10.928002Z",
     "start_time": "2022-04-27T10:45:10.9093Z"
    },
    "execution": {
     "iopub.execute_input": "2022-05-18T18:07:27.802127Z",
     "iopub.status.busy": "2022-05-18T18:07:27.801397Z",
     "iopub.status.idle": "2022-05-18T18:07:27.829213Z",
     "shell.execute_reply": "2022-05-18T18:07:27.828473Z"
    },
    "papermill": {
     "duration": 0.059696,
     "end_time": "2022-05-18T18:07:27.831574",
     "exception": false,
     "start_time": "2022-05-18T18:07:27.771878",
     "status": "completed"
    },
    "tags": []
   },
   "outputs": [
    {
     "name": "stderr",
     "output_type": "stream",
     "text": [
      "Truncation was not explicitly activated but `max_length` is provided a specific value, please use `truncation=True` to explicitly truncate examples to max length. Defaulting to 'longest_first' truncation strategy. If you encode pairs of sequences (GLUE-style) with the tokenizer you can select this strategy more precisely by providing a specific strategy to `truncation`.\n"
     ]
    },
    {
     "data": {
      "text/plain": [
       "{'input_ids': tensor([[  101,  1037,  4435,  ...,     0,     0,     0],\n",
       "         [  101,  2057, 24335,  ..., 17167,  8244,   102],\n",
       "         [  101,  4639,  2143,  ...,     0,     0,     0],\n",
       "         [  101,  2053,  1011,  ...,     0,     0,     0]]),\n",
       " 'attention_mask': tensor([[1, 1, 1,  ..., 0, 0, 0],\n",
       "         [1, 1, 1,  ..., 1, 1, 1],\n",
       "         [1, 1, 1,  ..., 0, 0, 0],\n",
       "         [1, 1, 1,  ..., 0, 0, 0]]),\n",
       " 'labels': tensor([27, 26,  7, 14])}"
      ]
     },
     "execution_count": 15,
     "metadata": {},
     "output_type": "execute_result"
    }
   ],
   "source": [
    "next(iter(train_data_loader))"
   ]
  },
  {
   "cell_type": "code",
   "execution_count": 16,
   "id": "129bc89a",
   "metadata": {
    "ExecuteTime": {
     "end_time": "2022-04-27T10:45:17.769557Z",
     "start_time": "2022-04-27T10:45:14.765215Z"
    },
    "execution": {
     "iopub.execute_input": "2022-05-18T18:07:27.891052Z",
     "iopub.status.busy": "2022-05-18T18:07:27.890355Z",
     "iopub.status.idle": "2022-05-18T18:07:50.360189Z",
     "shell.execute_reply": "2022-05-18T18:07:50.358417Z"
    },
    "papermill": {
     "duration": 22.50817,
     "end_time": "2022-05-18T18:07:50.368391",
     "exception": false,
     "start_time": "2022-05-18T18:07:27.860221",
     "status": "completed"
    },
    "tags": []
   },
   "outputs": [
    {
     "data": {
      "application/vnd.jupyter.widget-view+json": {
       "model_id": "dee34adb156843fab232d246c6acd16d",
       "version_major": 2,
       "version_minor": 0
      },
      "text/plain": [
       "Downloading:   0%|          | 0.00/420M [00:00<?, ?B/s]"
      ]
     },
     "metadata": {},
     "output_type": "display_data"
    },
    {
     "name": "stderr",
     "output_type": "stream",
     "text": [
      "Some weights of the model checkpoint at bert-base-uncased were not used when initializing BertModel: ['cls.predictions.transform.dense.weight', 'cls.predictions.transform.dense.bias', 'cls.seq_relationship.bias', 'cls.predictions.transform.LayerNorm.weight', 'cls.predictions.transform.LayerNorm.bias', 'cls.predictions.bias', 'cls.predictions.decoder.weight', 'cls.seq_relationship.weight']\n",
      "- This IS expected if you are initializing BertModel from the checkpoint of a model trained on another task or with another architecture (e.g. initializing a BertForSequenceClassification model from a BertForPreTraining model).\n",
      "- This IS NOT expected if you are initializing BertModel from the checkpoint of a model that you expect to be exactly identical (initializing a BertForSequenceClassification model from a BertForSequenceClassification model).\n"
     ]
    }
   ],
   "source": [
    "bert_model = AutoModel.from_pretrained(PRE_TRAINED_MODEL_NAME)"
   ]
  },
  {
   "cell_type": "code",
   "execution_count": 17,
   "id": "309d16be",
   "metadata": {
    "ExecuteTime": {
     "end_time": "2022-04-27T10:46:09.622837Z",
     "start_time": "2022-04-27T10:46:09.606143Z"
    },
    "execution": {
     "iopub.execute_input": "2022-05-18T18:07:50.468157Z",
     "iopub.status.busy": "2022-05-18T18:07:50.467429Z",
     "iopub.status.idle": "2022-05-18T18:07:50.475390Z",
     "shell.execute_reply": "2022-05-18T18:07:50.474687Z"
    },
    "papermill": {
     "duration": 0.049209,
     "end_time": "2022-05-18T18:07:50.477263",
     "exception": false,
     "start_time": "2022-05-18T18:07:50.428054",
     "status": "completed"
    },
    "tags": []
   },
   "outputs": [],
   "source": [
    "class NewsClassifier(nn.Module):\n",
    "    def __init__(self, n_classes):\n",
    "        super(NewsClassifier, self).__init__()\n",
    "        self.bert = AutoModel.from_pretrained(PRE_TRAINED_MODEL_NAME)\n",
    "        self.drop = nn.Dropout(p=0.3)\n",
    "        self.out = nn.Linear(self.bert.config.hidden_size, n_classes)\n",
    "    def forward(self, input_ids, attention_mask):\n",
    "        _, pooled_output = self.bert(\n",
    "            input_ids=input_ids,\n",
    "            attention_mask=attention_mask,\n",
    "            return_dict = False\n",
    "        )\n",
    "        output = self.drop(pooled_output)\n",
    "        return self.out(output)"
   ]
  },
  {
   "cell_type": "code",
   "execution_count": 18,
   "id": "42eabcdf",
   "metadata": {
    "ExecuteTime": {
     "end_time": "2022-04-27T10:50:42.145298Z",
     "start_time": "2022-04-27T10:50:39.349263Z"
    },
    "execution": {
     "iopub.execute_input": "2022-05-18T18:07:50.536803Z",
     "iopub.status.busy": "2022-05-18T18:07:50.536548Z",
     "iopub.status.idle": "2022-05-18T18:07:57.919874Z",
     "shell.execute_reply": "2022-05-18T18:07:57.915853Z"
    },
    "papermill": {
     "duration": 7.41587,
     "end_time": "2022-05-18T18:07:57.922360",
     "exception": false,
     "start_time": "2022-05-18T18:07:50.506490",
     "status": "completed"
    },
    "tags": []
   },
   "outputs": [
    {
     "name": "stderr",
     "output_type": "stream",
     "text": [
      "Some weights of the model checkpoint at bert-base-uncased were not used when initializing BertModel: ['cls.predictions.transform.dense.weight', 'cls.predictions.transform.dense.bias', 'cls.seq_relationship.bias', 'cls.predictions.transform.LayerNorm.weight', 'cls.predictions.transform.LayerNorm.bias', 'cls.predictions.bias', 'cls.predictions.decoder.weight', 'cls.seq_relationship.weight']\n",
      "- This IS expected if you are initializing BertModel from the checkpoint of a model trained on another task or with another architecture (e.g. initializing a BertForSequenceClassification model from a BertForPreTraining model).\n",
      "- This IS NOT expected if you are initializing BertModel from the checkpoint of a model that you expect to be exactly identical (initializing a BertForSequenceClassification model from a BertForSequenceClassification model).\n"
     ]
    },
    {
     "name": "stdout",
     "output_type": "stream",
     "text": [
      "total_steps:80000\n"
     ]
    }
   ],
   "source": [
    "EPOCHS = 2\n",
    "\n",
    "model = NewsClassifier(32)\n",
    "model = model.to(device)\n",
    "optimizer = AdamW([{'params':[ param for name, param in model.named_parameters() if 'fc1' not in name]}], lr=2e-5, correct_bias=False)\n",
    "total_steps = len(train_data_loader) * EPOCHS\n",
    "print(f'total_steps:{total_steps}')\n",
    "\n",
    "scheduler = get_linear_schedule_with_warmup(\n",
    "  optimizer,\n",
    "  num_warmup_steps=0,\n",
    "  num_training_steps=total_steps\n",
    ")\n",
    "\n",
    "loss_fn = nn.CrossEntropyLoss().to(device)"
   ]
  },
  {
   "cell_type": "code",
   "execution_count": 19,
   "id": "b1598cb1",
   "metadata": {
    "ExecuteTime": {
     "end_time": "2022-04-27T10:50:48.26567Z",
     "start_time": "2022-04-27T10:50:48.250045Z"
    },
    "execution": {
     "iopub.execute_input": "2022-05-18T18:07:58.043038Z",
     "iopub.status.busy": "2022-05-18T18:07:58.042730Z",
     "iopub.status.idle": "2022-05-18T18:07:58.071768Z",
     "shell.execute_reply": "2022-05-18T18:07:58.063493Z"
    },
    "papermill": {
     "duration": 0.095216,
     "end_time": "2022-05-18T18:07:58.078024",
     "exception": false,
     "start_time": "2022-05-18T18:07:57.982808",
     "status": "completed"
    },
    "tags": []
   },
   "outputs": [],
   "source": [
    "def train_epoch(model, data_loader, loss_fn, optimizer, \n",
    "                device, scheduler, n_examples):\n",
    "    model = model.train()\n",
    "    losses = []\n",
    "    correct_predictions = 0\n",
    "    for d in data_loader:\n",
    "        input_ids = d[\"input_ids\"].to(device)\n",
    "        attention_mask = d[\"attention_mask\"].to(device)\n",
    "        targets = d[\"labels\"].to(device)\n",
    "        outputs = model(\n",
    "            input_ids=input_ids,\n",
    "            attention_mask=attention_mask\n",
    "        )\n",
    "        _, preds = torch.max(outputs, dim=1)\n",
    "        loss = loss_fn(outputs, targets)\n",
    "        correct_predictions += torch.sum(preds == targets)\n",
    "        losses.append(loss.item())\n",
    "        loss.backward()\n",
    "        nn.utils.clip_grad_norm_(model.parameters(), max_norm=1.0)\n",
    "        optimizer.step()\n",
    "        scheduler.step()\n",
    "        optimizer.zero_grad()\n",
    "    return correct_predictions.double() / n_examples, np.mean(losses)"
   ]
  },
  {
   "cell_type": "code",
   "execution_count": 20,
   "id": "19f8db9f",
   "metadata": {
    "ExecuteTime": {
     "end_time": "2022-04-27T10:50:48.839297Z",
     "start_time": "2022-04-27T10:50:48.828295Z"
    },
    "_kg_hide-input": false,
    "execution": {
     "iopub.execute_input": "2022-05-18T18:07:58.204509Z",
     "iopub.status.busy": "2022-05-18T18:07:58.204048Z",
     "iopub.status.idle": "2022-05-18T18:07:58.239330Z",
     "shell.execute_reply": "2022-05-18T18:07:58.233025Z"
    },
    "papermill": {
     "duration": 0.104101,
     "end_time": "2022-05-18T18:07:58.243929",
     "exception": false,
     "start_time": "2022-05-18T18:07:58.139828",
     "status": "completed"
    },
    "tags": []
   },
   "outputs": [],
   "source": [
    "def eval_model(model, data_loader, loss_fn, device, n_examples):\n",
    "    model = model.eval()\n",
    "\n",
    "    losses = []\n",
    "    correct_predictions = 0\n",
    "\n",
    "    with torch.no_grad():\n",
    "        for d in data_loader:\n",
    "            input_ids = d[\"input_ids\"].to(device)\n",
    "            attention_mask = d[\"attention_mask\"].to(device)\n",
    "            targets = d[\"labels\"].to(device)\n",
    "\n",
    "            outputs = model(\n",
    "                input_ids=input_ids,\n",
    "                attention_mask=attention_mask\n",
    "            )\n",
    "            _, preds = torch.max(outputs, dim=1)\n",
    "\n",
    "            loss = loss_fn(outputs, targets)\n",
    "\n",
    "            correct_predictions += torch.sum(preds == targets)\n",
    "            losses.append(loss.item())\n",
    "\n",
    "    return correct_predictions.double() / n_examples, np.mean(losses)"
   ]
  },
  {
   "cell_type": "code",
   "execution_count": 21,
   "id": "5bafea15",
   "metadata": {
    "ExecuteTime": {
     "end_time": "2022-04-27T17:15:28.712883Z",
     "start_time": "2022-04-27T10:50:51.477158Z"
    },
    "execution": {
     "iopub.execute_input": "2022-05-18T18:07:58.444005Z",
     "iopub.status.busy": "2022-05-18T18:07:58.443575Z",
     "iopub.status.idle": "2022-05-18T21:45:20.283331Z",
     "shell.execute_reply": "2022-05-18T21:45:20.282435Z"
    },
    "papermill": {
     "duration": 13041.898363,
     "end_time": "2022-05-18T21:45:20.287964",
     "exception": false,
     "start_time": "2022-05-18T18:07:58.389601",
     "status": "completed"
    },
    "tags": []
   },
   "outputs": [
    {
     "name": "stdout",
     "output_type": "stream",
     "text": [
      "Epoch 1/2\n",
      "----------\n",
      "Train loss 0.941874593997981 accuracy 0.74041875\n",
      "Val   loss 0.8077190481196507 accuracy 0.7769750000000001\n",
      "\n",
      "Epoch 2/2\n",
      "----------\n",
      "Train loss 0.6253044415330307 accuracy 0.8375187500000001\n",
      "Val   loss 0.9113312979148672 accuracy 0.788375\n",
      "\n"
     ]
    }
   ],
   "source": [
    "history = defaultdict(list)\n",
    "best_accuracy = 0\n",
    "for epoch in range(EPOCHS):\n",
    "\n",
    "    print(f'Epoch {epoch + 1}/{EPOCHS}')\n",
    "    print('-' * 10)\n",
    "\n",
    "    train_acc, train_loss = train_epoch(\n",
    "        model,\n",
    "        train_data_loader,\n",
    "        loss_fn,\n",
    "        optimizer,\n",
    "        device,\n",
    "        scheduler,\n",
    "        len(X_train)\n",
    "    )\n",
    "\n",
    "    print(f'Train loss {train_loss} accuracy {train_acc}')\n",
    "\n",
    "    val_acc, val_loss = eval_model(\n",
    "        model,\n",
    "        val_data_loader,\n",
    "        loss_fn,\n",
    "        device,\n",
    "        len(X_test)\n",
    "    )\n",
    "\n",
    "    print(f'Val   loss {val_loss} accuracy {val_acc}')\n",
    "    print()\n",
    "\n",
    "    history['train_acc'].append(train_acc)\n",
    "    history['train_loss'].append(train_loss)\n",
    "    history['val_acc'].append(val_acc)\n",
    "    history['val_loss'].append(val_loss)\n",
    "\n",
    "    if val_acc > best_accuracy:\n",
    "        torch.save(model.state_dict(), 'best_albert_model_state.bin')\n",
    "        best_accuracy = val_acc"
   ]
  },
  {
   "cell_type": "code",
   "execution_count": 22,
   "id": "bcbb72e3",
   "metadata": {
    "ExecuteTime": {
     "end_time": "2022-04-27T17:20:18.607664Z",
     "start_time": "2022-04-27T17:20:18.134951Z"
    },
    "execution": {
     "iopub.execute_input": "2022-05-18T21:45:20.370154Z",
     "iopub.status.busy": "2022-05-18T21:45:20.369925Z",
     "iopub.status.idle": "2022-05-18T21:45:20.593249Z",
     "shell.execute_reply": "2022-05-18T21:45:20.592435Z"
    },
    "papermill": {
     "duration": 0.257529,
     "end_time": "2022-05-18T21:45:20.595626",
     "exception": false,
     "start_time": "2022-05-18T21:45:20.338097",
     "status": "completed"
    },
    "tags": []
   },
   "outputs": [],
   "source": [
    "test['text'] = test['title'] + '[SEP] ' + test['body']\n",
    "test['text'] = test['text'].apply(lambda x:x.lower())"
   ]
  },
  {
   "cell_type": "code",
   "execution_count": 23,
   "id": "0c0ed893",
   "metadata": {
    "ExecuteTime": {
     "end_time": "2022-04-27T17:22:39.855703Z",
     "start_time": "2022-04-27T17:22:39.841699Z"
    },
    "execution": {
     "iopub.execute_input": "2022-05-18T21:45:20.660149Z",
     "iopub.status.busy": "2022-05-18T21:45:20.659932Z",
     "iopub.status.idle": "2022-05-18T21:45:20.666985Z",
     "shell.execute_reply": "2022-05-18T21:45:20.666317Z"
    },
    "papermill": {
     "duration": 0.040591,
     "end_time": "2022-05-18T21:45:20.668570",
     "exception": false,
     "start_time": "2022-05-18T21:45:20.627979",
     "status": "completed"
    },
    "tags": []
   },
   "outputs": [],
   "source": [
    "class TestDataset(Dataset):\n",
    "    def __init__(self,texts,tokenizer,max_len):\n",
    "        self.texts=texts\n",
    "        self.tokenizer=tokenizer\n",
    "        self.max_len=max_len\n",
    "    def __len__(self):\n",
    "        return len(self.texts)\n",
    "    \n",
    "    def __getitem__(self,item):\n",
    "        text=str(self.texts[item])\n",
    "        \n",
    "        encoding=self.tokenizer.encode_plus(\n",
    "            text,\n",
    "            add_special_tokens=True,\n",
    "            max_length=self.max_len,\n",
    "            return_token_type_ids=True,\n",
    "            pad_to_max_length=True,\n",
    "            return_attention_mask=True,\n",
    "            return_tensors='pt',\n",
    "        )\n",
    "        \n",
    "        return {\n",
    "            'input_ids':encoding['input_ids'].flatten(),\n",
    "            'attention_mask':encoding['attention_mask'].flatten(),\n",
    "        }\n",
    "\n",
    "    \n",
    "test_data_loader = DataLoader(\n",
    "        TestDataset(test['text'], tokenizer, MAX_LEN),\n",
    "        batch_size=BATCH_SIZE,\n",
    "    )"
   ]
  },
  {
   "cell_type": "code",
   "execution_count": 24,
   "id": "686b9c4a",
   "metadata": {
    "ExecuteTime": {
     "end_time": "2022-04-27T17:23:15.624347Z",
     "start_time": "2022-04-27T17:23:15.615345Z"
    },
    "execution": {
     "iopub.execute_input": "2022-05-18T21:45:20.732251Z",
     "iopub.status.busy": "2022-05-18T21:45:20.732061Z",
     "iopub.status.idle": "2022-05-18T21:45:20.740906Z",
     "shell.execute_reply": "2022-05-18T21:45:20.740205Z"
    },
    "papermill": {
     "duration": 0.042899,
     "end_time": "2022-05-18T21:45:20.742507",
     "exception": false,
     "start_time": "2022-05-18T21:45:20.699608",
     "status": "completed"
    },
    "tags": []
   },
   "outputs": [
    {
     "data": {
      "text/plain": [
       "{'input_ids': tensor([[  101, 21025,  2546,  ...,     0,     0,     0],\n",
       "         [  101,  2322,  4109,  ...,     0,     0,     0],\n",
       "         [  101,  2317,  2160,  ...,     0,     0,     0],\n",
       "         [  101,  9815, 16976,  ...,     0,     0,     0]]),\n",
       " 'attention_mask': tensor([[1, 1, 1,  ..., 0, 0, 0],\n",
       "         [1, 1, 1,  ..., 0, 0, 0],\n",
       "         [1, 1, 1,  ..., 0, 0, 0],\n",
       "         [1, 1, 1,  ..., 0, 0, 0]])}"
      ]
     },
     "execution_count": 24,
     "metadata": {},
     "output_type": "execute_result"
    }
   ],
   "source": [
    "next(iter(test_data_loader))"
   ]
  },
  {
   "cell_type": "code",
   "execution_count": 25,
   "id": "d76d7391",
   "metadata": {
    "ExecuteTime": {
     "end_time": "2022-04-27T17:58:27.166735Z",
     "start_time": "2022-04-27T17:26:16.270146Z"
    },
    "execution": {
     "iopub.execute_input": "2022-05-18T21:45:20.844547Z",
     "iopub.status.busy": "2022-05-18T21:45:20.844288Z",
     "iopub.status.idle": "2022-05-18T22:03:09.768765Z",
     "shell.execute_reply": "2022-05-18T22:03:09.767956Z"
    },
    "papermill": {
     "duration": 1068.986015,
     "end_time": "2022-05-18T22:03:09.771101",
     "exception": false,
     "start_time": "2022-05-18T21:45:20.785086",
     "status": "completed"
    },
    "tags": []
   },
   "outputs": [],
   "source": [
    "model = model.eval()\n",
    "\n",
    "predictions = []\n",
    "prediction_probs = []\n",
    "\n",
    "\n",
    "with torch.no_grad():\n",
    "    for d in test_data_loader:\n",
    "        input_ids = d[\"input_ids\"].to(device)\n",
    "        attention_mask = d[\"attention_mask\"].to(device)\n",
    "\n",
    "        outputs = model(\n",
    "            input_ids=input_ids,\n",
    "            attention_mask=attention_mask\n",
    "        )\n",
    "        _, preds = torch.max(outputs, dim=1)\n",
    "\n",
    "        probs = F.softmax(outputs, dim=1)\n",
    "\n",
    "        predictions.extend(preds)\n",
    "        prediction_probs.extend(probs)\n",
    "\n",
    "predictions = torch.stack(predictions).cpu()\n",
    "prediction_probs = torch.stack(prediction_probs).cpu()\n"
   ]
  },
  {
   "cell_type": "code",
   "execution_count": 26,
   "id": "aec26b99",
   "metadata": {
    "execution": {
     "iopub.execute_input": "2022-05-18T22:03:09.849205Z",
     "iopub.status.busy": "2022-05-18T22:03:09.848950Z",
     "iopub.status.idle": "2022-05-18T22:03:09.857125Z",
     "shell.execute_reply": "2022-05-18T22:03:09.856481Z"
    },
    "papermill": {
     "duration": 0.046006,
     "end_time": "2022-05-18T22:03:09.859065",
     "exception": false,
     "start_time": "2022-05-18T22:03:09.813059",
     "status": "completed"
    },
    "tags": []
   },
   "outputs": [],
   "source": [
    "from tqdm import tqdm\n",
    "def pred(model):\n",
    "    model = model.eval()\n",
    "\n",
    "    predictions = []\n",
    "    prediction_probs = []\n",
    "\n",
    "\n",
    "    with torch.no_grad():\n",
    "        for d in tqdm(test_data_loader):\n",
    "            input_ids = d[\"input_ids\"].to(device)\n",
    "            attention_mask = d[\"attention_mask\"].to(device)\n",
    "\n",
    "            outputs = model(\n",
    "                input_ids=input_ids,\n",
    "                attention_mask=attention_mask\n",
    "            )\n",
    "            _, preds = torch.max(outputs, dim=1)\n",
    "\n",
    "            probs = F.softmax(outputs, dim=1)\n",
    "\n",
    "            predictions.extend(preds)\n",
    "            prediction_probs.extend(probs)\n",
    "\n",
    "    predictions = torch.stack(predictions).cpu()\n",
    "    prediction_probs = torch.stack(prediction_probs).cpu()\n"
   ]
  },
  {
   "cell_type": "code",
   "execution_count": 27,
   "id": "a49ee924",
   "metadata": {
    "execution": {
     "iopub.execute_input": "2022-05-18T22:03:09.928129Z",
     "iopub.status.busy": "2022-05-18T22:03:09.927931Z",
     "iopub.status.idle": "2022-05-18T22:03:09.933452Z",
     "shell.execute_reply": "2022-05-18T22:03:09.932701Z"
    },
    "papermill": {
     "duration": 0.041453,
     "end_time": "2022-05-18T22:03:09.935343",
     "exception": false,
     "start_time": "2022-05-18T22:03:09.893890",
     "status": "completed"
    },
    "tags": []
   },
   "outputs": [
    {
     "data": {
      "text/plain": [
       "(4, 32)"
      ]
     },
     "execution_count": 27,
     "metadata": {},
     "output_type": "execute_result"
    }
   ],
   "source": [
    "probs.cpu().numpy().shape"
   ]
  },
  {
   "cell_type": "code",
   "execution_count": 28,
   "id": "020766cc",
   "metadata": {
    "ExecuteTime": {
     "end_time": "2022-04-27T18:04:17.231698Z",
     "start_time": "2022-04-27T18:04:17.146193Z"
    },
    "execution": {
     "iopub.execute_input": "2022-05-18T22:03:10.002255Z",
     "iopub.status.busy": "2022-05-18T22:03:10.002061Z",
     "iopub.status.idle": "2022-05-18T22:03:10.153379Z",
     "shell.execute_reply": "2022-05-18T22:03:10.152629Z"
    },
    "papermill": {
     "duration": 0.187522,
     "end_time": "2022-05-18T22:03:10.155893",
     "exception": false,
     "start_time": "2022-05-18T22:03:09.968371",
     "status": "completed"
    },
    "tags": []
   },
   "outputs": [],
   "source": [
    "sub['category'] = pd.Series(predictions.numpy())\n",
    "sub[['id','category']].to_csv('submission.csv',index=False)"
   ]
  }
 ],
 "metadata": {
  "kernelspec": {
   "display_name": "Python 3",
   "language": "python",
   "name": "python3"
  },
  "language_info": {
   "codemirror_mode": {
    "name": "ipython",
    "version": 3
   },
   "file_extension": ".py",
   "mimetype": "text/x-python",
   "name": "python",
   "nbconvert_exporter": "python",
   "pygments_lexer": "ipython3",
   "version": "3.7.12"
  },
  "papermill": {
   "default_parameters": {},
   "duration": 14180.537585,
   "end_time": "2022-05-18T22:03:13.019696",
   "environment_variables": {},
   "exception": null,
   "input_path": "__notebook__.ipynb",
   "output_path": "__notebook__.ipynb",
   "parameters": {},
   "start_time": "2022-05-18T18:06:52.482111",
   "version": "2.3.4"
  },
  "widgets": {
   "application/vnd.jupyter.widget-state+json": {
    "state": {
     "01d678a97d594fdd8667997a468d53a8": {
      "model_module": "@jupyter-widgets/controls",
      "model_module_version": "1.5.0",
      "model_name": "HTMLModel",
      "state": {
       "_dom_classes": [],
       "_model_module": "@jupyter-widgets/controls",
       "_model_module_version": "1.5.0",
       "_model_name": "HTMLModel",
       "_view_count": null,
       "_view_module": "@jupyter-widgets/controls",
       "_view_module_version": "1.5.0",
       "_view_name": "HTMLView",
       "description": "",
       "description_tooltip": null,
       "layout": "IPY_MODEL_478594ef8ce5489a99bfdd2873227b3e",
       "placeholder": "​",
       "style": "IPY_MODEL_f3c39f4d2a7e469d80ad8f6cb0429c6f",
       "value": "Downloading: 100%"
      }
     },
     "0b5a76b51a4246bbafc29c376ae7e7ce": {
      "model_module": "@jupyter-widgets/controls",
      "model_module_version": "1.5.0",
      "model_name": "DescriptionStyleModel",
      "state": {
       "_model_module": "@jupyter-widgets/controls",
       "_model_module_version": "1.5.0",
       "_model_name": "DescriptionStyleModel",
       "_view_count": null,
       "_view_module": "@jupyter-widgets/base",
       "_view_module_version": "1.2.0",
       "_view_name": "StyleView",
       "description_width": ""
      }
     },
     "0bd3308664f741d98f26790e409e8589": {
      "model_module": "@jupyter-widgets/controls",
      "model_module_version": "1.5.0",
      "model_name": "HBoxModel",
      "state": {
       "_dom_classes": [],
       "_model_module": "@jupyter-widgets/controls",
       "_model_module_version": "1.5.0",
       "_model_name": "HBoxModel",
       "_view_count": null,
       "_view_module": "@jupyter-widgets/controls",
       "_view_module_version": "1.5.0",
       "_view_name": "HBoxView",
       "box_style": "",
       "children": [
        "IPY_MODEL_8d63ba23ac7a4211a2e644a8d4dff21b",
        "IPY_MODEL_48d809cde3cc47ab9e76a0b642196d8d",
        "IPY_MODEL_e41818533a6c463d9a477a391fb14d2b"
       ],
       "layout": "IPY_MODEL_ba3f51839bcd4016a00f932dd1b9e619"
      }
     },
     "0cee5c2baacf41a88e86a72ea961e7b5": {
      "model_module": "@jupyter-widgets/base",
      "model_module_version": "1.2.0",
      "model_name": "LayoutModel",
      "state": {
       "_model_module": "@jupyter-widgets/base",
       "_model_module_version": "1.2.0",
       "_model_name": "LayoutModel",
       "_view_count": null,
       "_view_module": "@jupyter-widgets/base",
       "_view_module_version": "1.2.0",
       "_view_name": "LayoutView",
       "align_content": null,
       "align_items": null,
       "align_self": null,
       "border": null,
       "bottom": null,
       "display": null,
       "flex": null,
       "flex_flow": null,
       "grid_area": null,
       "grid_auto_columns": null,
       "grid_auto_flow": null,
       "grid_auto_rows": null,
       "grid_column": null,
       "grid_gap": null,
       "grid_row": null,
       "grid_template_areas": null,
       "grid_template_columns": null,
       "grid_template_rows": null,
       "height": null,
       "justify_content": null,
       "justify_items": null,
       "left": null,
       "margin": null,
       "max_height": null,
       "max_width": null,
       "min_height": null,
       "min_width": null,
       "object_fit": null,
       "object_position": null,
       "order": null,
       "overflow": null,
       "overflow_x": null,
       "overflow_y": null,
       "padding": null,
       "right": null,
       "top": null,
       "visibility": null,
       "width": null
      }
     },
     "0d7f5804e2a740de9ceee794e1d7ccfd": {
      "model_module": "@jupyter-widgets/controls",
      "model_module_version": "1.5.0",
      "model_name": "HTMLModel",
      "state": {
       "_dom_classes": [],
       "_model_module": "@jupyter-widgets/controls",
       "_model_module_version": "1.5.0",
       "_model_name": "HTMLModel",
       "_view_count": null,
       "_view_module": "@jupyter-widgets/controls",
       "_view_module_version": "1.5.0",
       "_view_name": "HTMLView",
       "description": "",
       "description_tooltip": null,
       "layout": "IPY_MODEL_85d1fcc64e6c48e89dce2eb216409997",
       "placeholder": "​",
       "style": "IPY_MODEL_b87608d18e4544529fbfbf198e6aaef2",
       "value": "Downloading: 100%"
      }
     },
     "11557fe7f7bb458fbea7a89e5391381f": {
      "model_module": "@jupyter-widgets/controls",
      "model_module_version": "1.5.0",
      "model_name": "ProgressStyleModel",
      "state": {
       "_model_module": "@jupyter-widgets/controls",
       "_model_module_version": "1.5.0",
       "_model_name": "ProgressStyleModel",
       "_view_count": null,
       "_view_module": "@jupyter-widgets/base",
       "_view_module_version": "1.2.0",
       "_view_name": "StyleView",
       "bar_color": null,
       "description_width": ""
      }
     },
     "11ace8389d5e4c80b4198e092036a4fc": {
      "model_module": "@jupyter-widgets/controls",
      "model_module_version": "1.5.0",
      "model_name": "ProgressStyleModel",
      "state": {
       "_model_module": "@jupyter-widgets/controls",
       "_model_module_version": "1.5.0",
       "_model_name": "ProgressStyleModel",
       "_view_count": null,
       "_view_module": "@jupyter-widgets/base",
       "_view_module_version": "1.2.0",
       "_view_name": "StyleView",
       "bar_color": null,
       "description_width": ""
      }
     },
     "1c3077e48cb64e0aaf6109f023c7b221": {
      "model_module": "@jupyter-widgets/controls",
      "model_module_version": "1.5.0",
      "model_name": "DescriptionStyleModel",
      "state": {
       "_model_module": "@jupyter-widgets/controls",
       "_model_module_version": "1.5.0",
       "_model_name": "DescriptionStyleModel",
       "_view_count": null,
       "_view_module": "@jupyter-widgets/base",
       "_view_module_version": "1.2.0",
       "_view_name": "StyleView",
       "description_width": ""
      }
     },
     "234ac65c8c174a7f95581b08c88a7f96": {
      "model_module": "@jupyter-widgets/base",
      "model_module_version": "1.2.0",
      "model_name": "LayoutModel",
      "state": {
       "_model_module": "@jupyter-widgets/base",
       "_model_module_version": "1.2.0",
       "_model_name": "LayoutModel",
       "_view_count": null,
       "_view_module": "@jupyter-widgets/base",
       "_view_module_version": "1.2.0",
       "_view_name": "LayoutView",
       "align_content": null,
       "align_items": null,
       "align_self": null,
       "border": null,
       "bottom": null,
       "display": null,
       "flex": null,
       "flex_flow": null,
       "grid_area": null,
       "grid_auto_columns": null,
       "grid_auto_flow": null,
       "grid_auto_rows": null,
       "grid_column": null,
       "grid_gap": null,
       "grid_row": null,
       "grid_template_areas": null,
       "grid_template_columns": null,
       "grid_template_rows": null,
       "height": null,
       "justify_content": null,
       "justify_items": null,
       "left": null,
       "margin": null,
       "max_height": null,
       "max_width": null,
       "min_height": null,
       "min_width": null,
       "object_fit": null,
       "object_position": null,
       "order": null,
       "overflow": null,
       "overflow_x": null,
       "overflow_y": null,
       "padding": null,
       "right": null,
       "top": null,
       "visibility": null,
       "width": null
      }
     },
     "2605704ceaee475da10ee4a81a7b61a5": {
      "model_module": "@jupyter-widgets/controls",
      "model_module_version": "1.5.0",
      "model_name": "FloatProgressModel",
      "state": {
       "_dom_classes": [],
       "_model_module": "@jupyter-widgets/controls",
       "_model_module_version": "1.5.0",
       "_model_name": "FloatProgressModel",
       "_view_count": null,
       "_view_module": "@jupyter-widgets/controls",
       "_view_module_version": "1.5.0",
       "_view_name": "ProgressView",
       "bar_style": "success",
       "description": "",
       "description_tooltip": null,
       "layout": "IPY_MODEL_4fdf96b7391c4446ab24240a7cf1aba7",
       "max": 440473133.0,
       "min": 0.0,
       "orientation": "horizontal",
       "style": "IPY_MODEL_5e26d708507b46e386ef37096c409282",
       "value": 440473133.0
      }
     },
     "2c019758f3af4277a4b89b356db9d463": {
      "model_module": "@jupyter-widgets/controls",
      "model_module_version": "1.5.0",
      "model_name": "DescriptionStyleModel",
      "state": {
       "_model_module": "@jupyter-widgets/controls",
       "_model_module_version": "1.5.0",
       "_model_name": "DescriptionStyleModel",
       "_view_count": null,
       "_view_module": "@jupyter-widgets/base",
       "_view_module_version": "1.2.0",
       "_view_name": "StyleView",
       "description_width": ""
      }
     },
     "2d4c52e26c3b4fe291d99e4db153381c": {
      "model_module": "@jupyter-widgets/controls",
      "model_module_version": "1.5.0",
      "model_name": "FloatProgressModel",
      "state": {
       "_dom_classes": [],
       "_model_module": "@jupyter-widgets/controls",
       "_model_module_version": "1.5.0",
       "_model_name": "FloatProgressModel",
       "_view_count": null,
       "_view_module": "@jupyter-widgets/controls",
       "_view_module_version": "1.5.0",
       "_view_name": "ProgressView",
       "bar_style": "success",
       "description": "",
       "description_tooltip": null,
       "layout": "IPY_MODEL_51f4241b070f429284d9137444fba87b",
       "max": 28.0,
       "min": 0.0,
       "orientation": "horizontal",
       "style": "IPY_MODEL_11ace8389d5e4c80b4198e092036a4fc",
       "value": 28.0
      }
     },
     "2e1e24b42d4543b0a95bcbe494e0ffdd": {
      "model_module": "@jupyter-widgets/base",
      "model_module_version": "1.2.0",
      "model_name": "LayoutModel",
      "state": {
       "_model_module": "@jupyter-widgets/base",
       "_model_module_version": "1.2.0",
       "_model_name": "LayoutModel",
       "_view_count": null,
       "_view_module": "@jupyter-widgets/base",
       "_view_module_version": "1.2.0",
       "_view_name": "LayoutView",
       "align_content": null,
       "align_items": null,
       "align_self": null,
       "border": null,
       "bottom": null,
       "display": null,
       "flex": null,
       "flex_flow": null,
       "grid_area": null,
       "grid_auto_columns": null,
       "grid_auto_flow": null,
       "grid_auto_rows": null,
       "grid_column": null,
       "grid_gap": null,
       "grid_row": null,
       "grid_template_areas": null,
       "grid_template_columns": null,
       "grid_template_rows": null,
       "height": null,
       "justify_content": null,
       "justify_items": null,
       "left": null,
       "margin": null,
       "max_height": null,
       "max_width": null,
       "min_height": null,
       "min_width": null,
       "object_fit": null,
       "object_position": null,
       "order": null,
       "overflow": null,
       "overflow_x": null,
       "overflow_y": null,
       "padding": null,
       "right": null,
       "top": null,
       "visibility": null,
       "width": null
      }
     },
     "3b0e81208e5642ba9379bb8706562c84": {
      "model_module": "@jupyter-widgets/controls",
      "model_module_version": "1.5.0",
      "model_name": "DescriptionStyleModel",
      "state": {
       "_model_module": "@jupyter-widgets/controls",
       "_model_module_version": "1.5.0",
       "_model_name": "DescriptionStyleModel",
       "_view_count": null,
       "_view_module": "@jupyter-widgets/base",
       "_view_module_version": "1.2.0",
       "_view_name": "StyleView",
       "description_width": ""
      }
     },
     "3dbc331fc10b4ae28fe5a31112b0a8ad": {
      "model_module": "@jupyter-widgets/base",
      "model_module_version": "1.2.0",
      "model_name": "LayoutModel",
      "state": {
       "_model_module": "@jupyter-widgets/base",
       "_model_module_version": "1.2.0",
       "_model_name": "LayoutModel",
       "_view_count": null,
       "_view_module": "@jupyter-widgets/base",
       "_view_module_version": "1.2.0",
       "_view_name": "LayoutView",
       "align_content": null,
       "align_items": null,
       "align_self": null,
       "border": null,
       "bottom": null,
       "display": null,
       "flex": null,
       "flex_flow": null,
       "grid_area": null,
       "grid_auto_columns": null,
       "grid_auto_flow": null,
       "grid_auto_rows": null,
       "grid_column": null,
       "grid_gap": null,
       "grid_row": null,
       "grid_template_areas": null,
       "grid_template_columns": null,
       "grid_template_rows": null,
       "height": null,
       "justify_content": null,
       "justify_items": null,
       "left": null,
       "margin": null,
       "max_height": null,
       "max_width": null,
       "min_height": null,
       "min_width": null,
       "object_fit": null,
       "object_position": null,
       "order": null,
       "overflow": null,
       "overflow_x": null,
       "overflow_y": null,
       "padding": null,
       "right": null,
       "top": null,
       "visibility": null,
       "width": null
      }
     },
     "42fe8dd67ce24dd3bc8163e43f249664": {
      "model_module": "@jupyter-widgets/base",
      "model_module_version": "1.2.0",
      "model_name": "LayoutModel",
      "state": {
       "_model_module": "@jupyter-widgets/base",
       "_model_module_version": "1.2.0",
       "_model_name": "LayoutModel",
       "_view_count": null,
       "_view_module": "@jupyter-widgets/base",
       "_view_module_version": "1.2.0",
       "_view_name": "LayoutView",
       "align_content": null,
       "align_items": null,
       "align_self": null,
       "border": null,
       "bottom": null,
       "display": null,
       "flex": null,
       "flex_flow": null,
       "grid_area": null,
       "grid_auto_columns": null,
       "grid_auto_flow": null,
       "grid_auto_rows": null,
       "grid_column": null,
       "grid_gap": null,
       "grid_row": null,
       "grid_template_areas": null,
       "grid_template_columns": null,
       "grid_template_rows": null,
       "height": null,
       "justify_content": null,
       "justify_items": null,
       "left": null,
       "margin": null,
       "max_height": null,
       "max_width": null,
       "min_height": null,
       "min_width": null,
       "object_fit": null,
       "object_position": null,
       "order": null,
       "overflow": null,
       "overflow_x": null,
       "overflow_y": null,
       "padding": null,
       "right": null,
       "top": null,
       "visibility": null,
       "width": null
      }
     },
     "478594ef8ce5489a99bfdd2873227b3e": {
      "model_module": "@jupyter-widgets/base",
      "model_module_version": "1.2.0",
      "model_name": "LayoutModel",
      "state": {
       "_model_module": "@jupyter-widgets/base",
       "_model_module_version": "1.2.0",
       "_model_name": "LayoutModel",
       "_view_count": null,
       "_view_module": "@jupyter-widgets/base",
       "_view_module_version": "1.2.0",
       "_view_name": "LayoutView",
       "align_content": null,
       "align_items": null,
       "align_self": null,
       "border": null,
       "bottom": null,
       "display": null,
       "flex": null,
       "flex_flow": null,
       "grid_area": null,
       "grid_auto_columns": null,
       "grid_auto_flow": null,
       "grid_auto_rows": null,
       "grid_column": null,
       "grid_gap": null,
       "grid_row": null,
       "grid_template_areas": null,
       "grid_template_columns": null,
       "grid_template_rows": null,
       "height": null,
       "justify_content": null,
       "justify_items": null,
       "left": null,
       "margin": null,
       "max_height": null,
       "max_width": null,
       "min_height": null,
       "min_width": null,
       "object_fit": null,
       "object_position": null,
       "order": null,
       "overflow": null,
       "overflow_x": null,
       "overflow_y": null,
       "padding": null,
       "right": null,
       "top": null,
       "visibility": null,
       "width": null
      }
     },
     "48d809cde3cc47ab9e76a0b642196d8d": {
      "model_module": "@jupyter-widgets/controls",
      "model_module_version": "1.5.0",
      "model_name": "FloatProgressModel",
      "state": {
       "_dom_classes": [],
       "_model_module": "@jupyter-widgets/controls",
       "_model_module_version": "1.5.0",
       "_model_name": "FloatProgressModel",
       "_view_count": null,
       "_view_module": "@jupyter-widgets/controls",
       "_view_module_version": "1.5.0",
       "_view_name": "ProgressView",
       "bar_style": "success",
       "description": "",
       "description_tooltip": null,
       "layout": "IPY_MODEL_3dbc331fc10b4ae28fe5a31112b0a8ad",
       "max": 466062.0,
       "min": 0.0,
       "orientation": "horizontal",
       "style": "IPY_MODEL_a5fa2133695e48d797ca655755dccdbe",
       "value": 466062.0
      }
     },
     "4bff0e93e4194756af2ae9f9b1a8e1bb": {
      "model_module": "@jupyter-widgets/controls",
      "model_module_version": "1.5.0",
      "model_name": "HTMLModel",
      "state": {
       "_dom_classes": [],
       "_model_module": "@jupyter-widgets/controls",
       "_model_module_version": "1.5.0",
       "_model_name": "HTMLModel",
       "_view_count": null,
       "_view_module": "@jupyter-widgets/controls",
       "_view_module_version": "1.5.0",
       "_view_name": "HTMLView",
       "description": "",
       "description_tooltip": null,
       "layout": "IPY_MODEL_42fe8dd67ce24dd3bc8163e43f249664",
       "placeholder": "​",
       "style": "IPY_MODEL_3b0e81208e5642ba9379bb8706562c84",
       "value": " 226k/226k [00:00&lt;00:00, 716kB/s]"
      }
     },
     "4d34f1c91015400192ed5f6e9df10c2a": {
      "model_module": "@jupyter-widgets/base",
      "model_module_version": "1.2.0",
      "model_name": "LayoutModel",
      "state": {
       "_model_module": "@jupyter-widgets/base",
       "_model_module_version": "1.2.0",
       "_model_name": "LayoutModel",
       "_view_count": null,
       "_view_module": "@jupyter-widgets/base",
       "_view_module_version": "1.2.0",
       "_view_name": "LayoutView",
       "align_content": null,
       "align_items": null,
       "align_self": null,
       "border": null,
       "bottom": null,
       "display": null,
       "flex": null,
       "flex_flow": null,
       "grid_area": null,
       "grid_auto_columns": null,
       "grid_auto_flow": null,
       "grid_auto_rows": null,
       "grid_column": null,
       "grid_gap": null,
       "grid_row": null,
       "grid_template_areas": null,
       "grid_template_columns": null,
       "grid_template_rows": null,
       "height": null,
       "justify_content": null,
       "justify_items": null,
       "left": null,
       "margin": null,
       "max_height": null,
       "max_width": null,
       "min_height": null,
       "min_width": null,
       "object_fit": null,
       "object_position": null,
       "order": null,
       "overflow": null,
       "overflow_x": null,
       "overflow_y": null,
       "padding": null,
       "right": null,
       "top": null,
       "visibility": null,
       "width": null
      }
     },
     "4fdf96b7391c4446ab24240a7cf1aba7": {
      "model_module": "@jupyter-widgets/base",
      "model_module_version": "1.2.0",
      "model_name": "LayoutModel",
      "state": {
       "_model_module": "@jupyter-widgets/base",
       "_model_module_version": "1.2.0",
       "_model_name": "LayoutModel",
       "_view_count": null,
       "_view_module": "@jupyter-widgets/base",
       "_view_module_version": "1.2.0",
       "_view_name": "LayoutView",
       "align_content": null,
       "align_items": null,
       "align_self": null,
       "border": null,
       "bottom": null,
       "display": null,
       "flex": null,
       "flex_flow": null,
       "grid_area": null,
       "grid_auto_columns": null,
       "grid_auto_flow": null,
       "grid_auto_rows": null,
       "grid_column": null,
       "grid_gap": null,
       "grid_row": null,
       "grid_template_areas": null,
       "grid_template_columns": null,
       "grid_template_rows": null,
       "height": null,
       "justify_content": null,
       "justify_items": null,
       "left": null,
       "margin": null,
       "max_height": null,
       "max_width": null,
       "min_height": null,
       "min_width": null,
       "object_fit": null,
       "object_position": null,
       "order": null,
       "overflow": null,
       "overflow_x": null,
       "overflow_y": null,
       "padding": null,
       "right": null,
       "top": null,
       "visibility": null,
       "width": null
      }
     },
     "51f4241b070f429284d9137444fba87b": {
      "model_module": "@jupyter-widgets/base",
      "model_module_version": "1.2.0",
      "model_name": "LayoutModel",
      "state": {
       "_model_module": "@jupyter-widgets/base",
       "_model_module_version": "1.2.0",
       "_model_name": "LayoutModel",
       "_view_count": null,
       "_view_module": "@jupyter-widgets/base",
       "_view_module_version": "1.2.0",
       "_view_name": "LayoutView",
       "align_content": null,
       "align_items": null,
       "align_self": null,
       "border": null,
       "bottom": null,
       "display": null,
       "flex": null,
       "flex_flow": null,
       "grid_area": null,
       "grid_auto_columns": null,
       "grid_auto_flow": null,
       "grid_auto_rows": null,
       "grid_column": null,
       "grid_gap": null,
       "grid_row": null,
       "grid_template_areas": null,
       "grid_template_columns": null,
       "grid_template_rows": null,
       "height": null,
       "justify_content": null,
       "justify_items": null,
       "left": null,
       "margin": null,
       "max_height": null,
       "max_width": null,
       "min_height": null,
       "min_width": null,
       "object_fit": null,
       "object_position": null,
       "order": null,
       "overflow": null,
       "overflow_x": null,
       "overflow_y": null,
       "padding": null,
       "right": null,
       "top": null,
       "visibility": null,
       "width": null
      }
     },
     "524ef3a3e4084ec9989cac7ec27c50bb": {
      "model_module": "@jupyter-widgets/controls",
      "model_module_version": "1.5.0",
      "model_name": "HTMLModel",
      "state": {
       "_dom_classes": [],
       "_model_module": "@jupyter-widgets/controls",
       "_model_module_version": "1.5.0",
       "_model_name": "HTMLModel",
       "_view_count": null,
       "_view_module": "@jupyter-widgets/controls",
       "_view_module_version": "1.5.0",
       "_view_name": "HTMLView",
       "description": "",
       "description_tooltip": null,
       "layout": "IPY_MODEL_2e1e24b42d4543b0a95bcbe494e0ffdd",
       "placeholder": "​",
       "style": "IPY_MODEL_8cafb2ef41fc4379903d196954d4af54",
       "value": " 28.0/28.0 [00:00&lt;00:00, 1.02kB/s]"
      }
     },
     "5e26d708507b46e386ef37096c409282": {
      "model_module": "@jupyter-widgets/controls",
      "model_module_version": "1.5.0",
      "model_name": "ProgressStyleModel",
      "state": {
       "_model_module": "@jupyter-widgets/controls",
       "_model_module_version": "1.5.0",
       "_model_name": "ProgressStyleModel",
       "_view_count": null,
       "_view_module": "@jupyter-widgets/base",
       "_view_module_version": "1.2.0",
       "_view_name": "StyleView",
       "bar_color": null,
       "description_width": ""
      }
     },
     "6ccf11fdcf4b4af286d117ed231620eb": {
      "model_module": "@jupyter-widgets/controls",
      "model_module_version": "1.5.0",
      "model_name": "DescriptionStyleModel",
      "state": {
       "_model_module": "@jupyter-widgets/controls",
       "_model_module_version": "1.5.0",
       "_model_name": "DescriptionStyleModel",
       "_view_count": null,
       "_view_module": "@jupyter-widgets/base",
       "_view_module_version": "1.2.0",
       "_view_name": "StyleView",
       "description_width": ""
      }
     },
     "7181aeb2846e430598f99896b2463353": {
      "model_module": "@jupyter-widgets/controls",
      "model_module_version": "1.5.0",
      "model_name": "FloatProgressModel",
      "state": {
       "_dom_classes": [],
       "_model_module": "@jupyter-widgets/controls",
       "_model_module_version": "1.5.0",
       "_model_name": "FloatProgressModel",
       "_view_count": null,
       "_view_module": "@jupyter-widgets/controls",
       "_view_module_version": "1.5.0",
       "_view_name": "ProgressView",
       "bar_style": "success",
       "description": "",
       "description_tooltip": null,
       "layout": "IPY_MODEL_be6fe6b7934842f589e447040d0db745",
       "max": 570.0,
       "min": 0.0,
       "orientation": "horizontal",
       "style": "IPY_MODEL_11557fe7f7bb458fbea7a89e5391381f",
       "value": 570.0
      }
     },
     "7b4bc0f6e5ad418d9d94817f8e5baa03": {
      "model_module": "@jupyter-widgets/controls",
      "model_module_version": "1.5.0",
      "model_name": "HTMLModel",
      "state": {
       "_dom_classes": [],
       "_model_module": "@jupyter-widgets/controls",
       "_model_module_version": "1.5.0",
       "_model_name": "HTMLModel",
       "_view_count": null,
       "_view_module": "@jupyter-widgets/controls",
       "_view_module_version": "1.5.0",
       "_view_name": "HTMLView",
       "description": "",
       "description_tooltip": null,
       "layout": "IPY_MODEL_8719a5a59c024d29afd2760a9990cd20",
       "placeholder": "​",
       "style": "IPY_MODEL_abc22c24ceb74cc9bc42395cb71d8b8b",
       "value": "Downloading: 100%"
      }
     },
     "85d1fcc64e6c48e89dce2eb216409997": {
      "model_module": "@jupyter-widgets/base",
      "model_module_version": "1.2.0",
      "model_name": "LayoutModel",
      "state": {
       "_model_module": "@jupyter-widgets/base",
       "_model_module_version": "1.2.0",
       "_model_name": "LayoutModel",
       "_view_count": null,
       "_view_module": "@jupyter-widgets/base",
       "_view_module_version": "1.2.0",
       "_view_name": "LayoutView",
       "align_content": null,
       "align_items": null,
       "align_self": null,
       "border": null,
       "bottom": null,
       "display": null,
       "flex": null,
       "flex_flow": null,
       "grid_area": null,
       "grid_auto_columns": null,
       "grid_auto_flow": null,
       "grid_auto_rows": null,
       "grid_column": null,
       "grid_gap": null,
       "grid_row": null,
       "grid_template_areas": null,
       "grid_template_columns": null,
       "grid_template_rows": null,
       "height": null,
       "justify_content": null,
       "justify_items": null,
       "left": null,
       "margin": null,
       "max_height": null,
       "max_width": null,
       "min_height": null,
       "min_width": null,
       "object_fit": null,
       "object_position": null,
       "order": null,
       "overflow": null,
       "overflow_x": null,
       "overflow_y": null,
       "padding": null,
       "right": null,
       "top": null,
       "visibility": null,
       "width": null
      }
     },
     "8719a5a59c024d29afd2760a9990cd20": {
      "model_module": "@jupyter-widgets/base",
      "model_module_version": "1.2.0",
      "model_name": "LayoutModel",
      "state": {
       "_model_module": "@jupyter-widgets/base",
       "_model_module_version": "1.2.0",
       "_model_name": "LayoutModel",
       "_view_count": null,
       "_view_module": "@jupyter-widgets/base",
       "_view_module_version": "1.2.0",
       "_view_name": "LayoutView",
       "align_content": null,
       "align_items": null,
       "align_self": null,
       "border": null,
       "bottom": null,
       "display": null,
       "flex": null,
       "flex_flow": null,
       "grid_area": null,
       "grid_auto_columns": null,
       "grid_auto_flow": null,
       "grid_auto_rows": null,
       "grid_column": null,
       "grid_gap": null,
       "grid_row": null,
       "grid_template_areas": null,
       "grid_template_columns": null,
       "grid_template_rows": null,
       "height": null,
       "justify_content": null,
       "justify_items": null,
       "left": null,
       "margin": null,
       "max_height": null,
       "max_width": null,
       "min_height": null,
       "min_width": null,
       "object_fit": null,
       "object_position": null,
       "order": null,
       "overflow": null,
       "overflow_x": null,
       "overflow_y": null,
       "padding": null,
       "right": null,
       "top": null,
       "visibility": null,
       "width": null
      }
     },
     "8b9d4a6b211e4932a23b262a7d4f6f15": {
      "model_module": "@jupyter-widgets/controls",
      "model_module_version": "1.5.0",
      "model_name": "HTMLModel",
      "state": {
       "_dom_classes": [],
       "_model_module": "@jupyter-widgets/controls",
       "_model_module_version": "1.5.0",
       "_model_name": "HTMLModel",
       "_view_count": null,
       "_view_module": "@jupyter-widgets/controls",
       "_view_module_version": "1.5.0",
       "_view_name": "HTMLView",
       "description": "",
       "description_tooltip": null,
       "layout": "IPY_MODEL_4d34f1c91015400192ed5f6e9df10c2a",
       "placeholder": "​",
       "style": "IPY_MODEL_99a38c093dcf4f18a0a3a9fcf642a296",
       "value": " 570/570 [00:00&lt;00:00, 21.6kB/s]"
      }
     },
     "8cafb2ef41fc4379903d196954d4af54": {
      "model_module": "@jupyter-widgets/controls",
      "model_module_version": "1.5.0",
      "model_name": "DescriptionStyleModel",
      "state": {
       "_model_module": "@jupyter-widgets/controls",
       "_model_module_version": "1.5.0",
       "_model_name": "DescriptionStyleModel",
       "_view_count": null,
       "_view_module": "@jupyter-widgets/base",
       "_view_module_version": "1.2.0",
       "_view_name": "StyleView",
       "description_width": ""
      }
     },
     "8d63ba23ac7a4211a2e644a8d4dff21b": {
      "model_module": "@jupyter-widgets/controls",
      "model_module_version": "1.5.0",
      "model_name": "HTMLModel",
      "state": {
       "_dom_classes": [],
       "_model_module": "@jupyter-widgets/controls",
       "_model_module_version": "1.5.0",
       "_model_name": "HTMLModel",
       "_view_count": null,
       "_view_module": "@jupyter-widgets/controls",
       "_view_module_version": "1.5.0",
       "_view_name": "HTMLView",
       "description": "",
       "description_tooltip": null,
       "layout": "IPY_MODEL_eb82e3522e7341889cd4e2d070ebf4df",
       "placeholder": "​",
       "style": "IPY_MODEL_0b5a76b51a4246bbafc29c376ae7e7ce",
       "value": "Downloading: 100%"
      }
     },
     "99a38c093dcf4f18a0a3a9fcf642a296": {
      "model_module": "@jupyter-widgets/controls",
      "model_module_version": "1.5.0",
      "model_name": "DescriptionStyleModel",
      "state": {
       "_model_module": "@jupyter-widgets/controls",
       "_model_module_version": "1.5.0",
       "_model_name": "DescriptionStyleModel",
       "_view_count": null,
       "_view_module": "@jupyter-widgets/base",
       "_view_module_version": "1.2.0",
       "_view_name": "StyleView",
       "description_width": ""
      }
     },
     "a5fa2133695e48d797ca655755dccdbe": {
      "model_module": "@jupyter-widgets/controls",
      "model_module_version": "1.5.0",
      "model_name": "ProgressStyleModel",
      "state": {
       "_model_module": "@jupyter-widgets/controls",
       "_model_module_version": "1.5.0",
       "_model_name": "ProgressStyleModel",
       "_view_count": null,
       "_view_module": "@jupyter-widgets/base",
       "_view_module_version": "1.2.0",
       "_view_name": "StyleView",
       "bar_color": null,
       "description_width": ""
      }
     },
     "abc22c24ceb74cc9bc42395cb71d8b8b": {
      "model_module": "@jupyter-widgets/controls",
      "model_module_version": "1.5.0",
      "model_name": "DescriptionStyleModel",
      "state": {
       "_model_module": "@jupyter-widgets/controls",
       "_model_module_version": "1.5.0",
       "_model_name": "DescriptionStyleModel",
       "_view_count": null,
       "_view_module": "@jupyter-widgets/base",
       "_view_module_version": "1.2.0",
       "_view_name": "StyleView",
       "description_width": ""
      }
     },
     "abec6b0a345648b29f4632edba2ed691": {
      "model_module": "@jupyter-widgets/base",
      "model_module_version": "1.2.0",
      "model_name": "LayoutModel",
      "state": {
       "_model_module": "@jupyter-widgets/base",
       "_model_module_version": "1.2.0",
       "_model_name": "LayoutModel",
       "_view_count": null,
       "_view_module": "@jupyter-widgets/base",
       "_view_module_version": "1.2.0",
       "_view_name": "LayoutView",
       "align_content": null,
       "align_items": null,
       "align_self": null,
       "border": null,
       "bottom": null,
       "display": null,
       "flex": null,
       "flex_flow": null,
       "grid_area": null,
       "grid_auto_columns": null,
       "grid_auto_flow": null,
       "grid_auto_rows": null,
       "grid_column": null,
       "grid_gap": null,
       "grid_row": null,
       "grid_template_areas": null,
       "grid_template_columns": null,
       "grid_template_rows": null,
       "height": null,
       "justify_content": null,
       "justify_items": null,
       "left": null,
       "margin": null,
       "max_height": null,
       "max_width": null,
       "min_height": null,
       "min_width": null,
       "object_fit": null,
       "object_position": null,
       "order": null,
       "overflow": null,
       "overflow_x": null,
       "overflow_y": null,
       "padding": null,
       "right": null,
       "top": null,
       "visibility": null,
       "width": null
      }
     },
     "b87608d18e4544529fbfbf198e6aaef2": {
      "model_module": "@jupyter-widgets/controls",
      "model_module_version": "1.5.0",
      "model_name": "DescriptionStyleModel",
      "state": {
       "_model_module": "@jupyter-widgets/controls",
       "_model_module_version": "1.5.0",
       "_model_name": "DescriptionStyleModel",
       "_view_count": null,
       "_view_module": "@jupyter-widgets/base",
       "_view_module_version": "1.2.0",
       "_view_name": "StyleView",
       "description_width": ""
      }
     },
     "b8b0de1f501041bdbc654120a817c139": {
      "model_module": "@jupyter-widgets/base",
      "model_module_version": "1.2.0",
      "model_name": "LayoutModel",
      "state": {
       "_model_module": "@jupyter-widgets/base",
       "_model_module_version": "1.2.0",
       "_model_name": "LayoutModel",
       "_view_count": null,
       "_view_module": "@jupyter-widgets/base",
       "_view_module_version": "1.2.0",
       "_view_name": "LayoutView",
       "align_content": null,
       "align_items": null,
       "align_self": null,
       "border": null,
       "bottom": null,
       "display": null,
       "flex": null,
       "flex_flow": null,
       "grid_area": null,
       "grid_auto_columns": null,
       "grid_auto_flow": null,
       "grid_auto_rows": null,
       "grid_column": null,
       "grid_gap": null,
       "grid_row": null,
       "grid_template_areas": null,
       "grid_template_columns": null,
       "grid_template_rows": null,
       "height": null,
       "justify_content": null,
       "justify_items": null,
       "left": null,
       "margin": null,
       "max_height": null,
       "max_width": null,
       "min_height": null,
       "min_width": null,
       "object_fit": null,
       "object_position": null,
       "order": null,
       "overflow": null,
       "overflow_x": null,
       "overflow_y": null,
       "padding": null,
       "right": null,
       "top": null,
       "visibility": null,
       "width": null
      }
     },
     "ba3f51839bcd4016a00f932dd1b9e619": {
      "model_module": "@jupyter-widgets/base",
      "model_module_version": "1.2.0",
      "model_name": "LayoutModel",
      "state": {
       "_model_module": "@jupyter-widgets/base",
       "_model_module_version": "1.2.0",
       "_model_name": "LayoutModel",
       "_view_count": null,
       "_view_module": "@jupyter-widgets/base",
       "_view_module_version": "1.2.0",
       "_view_name": "LayoutView",
       "align_content": null,
       "align_items": null,
       "align_self": null,
       "border": null,
       "bottom": null,
       "display": null,
       "flex": null,
       "flex_flow": null,
       "grid_area": null,
       "grid_auto_columns": null,
       "grid_auto_flow": null,
       "grid_auto_rows": null,
       "grid_column": null,
       "grid_gap": null,
       "grid_row": null,
       "grid_template_areas": null,
       "grid_template_columns": null,
       "grid_template_rows": null,
       "height": null,
       "justify_content": null,
       "justify_items": null,
       "left": null,
       "margin": null,
       "max_height": null,
       "max_width": null,
       "min_height": null,
       "min_width": null,
       "object_fit": null,
       "object_position": null,
       "order": null,
       "overflow": null,
       "overflow_x": null,
       "overflow_y": null,
       "padding": null,
       "right": null,
       "top": null,
       "visibility": null,
       "width": null
      }
     },
     "bb449e3f87af4ba99b36514333b7757c": {
      "model_module": "@jupyter-widgets/controls",
      "model_module_version": "1.5.0",
      "model_name": "HTMLModel",
      "state": {
       "_dom_classes": [],
       "_model_module": "@jupyter-widgets/controls",
       "_model_module_version": "1.5.0",
       "_model_name": "HTMLModel",
       "_view_count": null,
       "_view_module": "@jupyter-widgets/controls",
       "_view_module_version": "1.5.0",
       "_view_name": "HTMLView",
       "description": "",
       "description_tooltip": null,
       "layout": "IPY_MODEL_f5b083f675224a888aae726a6ea80f23",
       "placeholder": "​",
       "style": "IPY_MODEL_2c019758f3af4277a4b89b356db9d463",
       "value": " 420M/420M [00:19&lt;00:00, 23.6MB/s]"
      }
     },
     "bbb91aff98d2435da7a549da78c2371b": {
      "model_module": "@jupyter-widgets/base",
      "model_module_version": "1.2.0",
      "model_name": "LayoutModel",
      "state": {
       "_model_module": "@jupyter-widgets/base",
       "_model_module_version": "1.2.0",
       "_model_name": "LayoutModel",
       "_view_count": null,
       "_view_module": "@jupyter-widgets/base",
       "_view_module_version": "1.2.0",
       "_view_name": "LayoutView",
       "align_content": null,
       "align_items": null,
       "align_self": null,
       "border": null,
       "bottom": null,
       "display": null,
       "flex": null,
       "flex_flow": null,
       "grid_area": null,
       "grid_auto_columns": null,
       "grid_auto_flow": null,
       "grid_auto_rows": null,
       "grid_column": null,
       "grid_gap": null,
       "grid_row": null,
       "grid_template_areas": null,
       "grid_template_columns": null,
       "grid_template_rows": null,
       "height": null,
       "justify_content": null,
       "justify_items": null,
       "left": null,
       "margin": null,
       "max_height": null,
       "max_width": null,
       "min_height": null,
       "min_width": null,
       "object_fit": null,
       "object_position": null,
       "order": null,
       "overflow": null,
       "overflow_x": null,
       "overflow_y": null,
       "padding": null,
       "right": null,
       "top": null,
       "visibility": null,
       "width": null
      }
     },
     "be6fe6b7934842f589e447040d0db745": {
      "model_module": "@jupyter-widgets/base",
      "model_module_version": "1.2.0",
      "model_name": "LayoutModel",
      "state": {
       "_model_module": "@jupyter-widgets/base",
       "_model_module_version": "1.2.0",
       "_model_name": "LayoutModel",
       "_view_count": null,
       "_view_module": "@jupyter-widgets/base",
       "_view_module_version": "1.2.0",
       "_view_name": "LayoutView",
       "align_content": null,
       "align_items": null,
       "align_self": null,
       "border": null,
       "bottom": null,
       "display": null,
       "flex": null,
       "flex_flow": null,
       "grid_area": null,
       "grid_auto_columns": null,
       "grid_auto_flow": null,
       "grid_auto_rows": null,
       "grid_column": null,
       "grid_gap": null,
       "grid_row": null,
       "grid_template_areas": null,
       "grid_template_columns": null,
       "grid_template_rows": null,
       "height": null,
       "justify_content": null,
       "justify_items": null,
       "left": null,
       "margin": null,
       "max_height": null,
       "max_width": null,
       "min_height": null,
       "min_width": null,
       "object_fit": null,
       "object_position": null,
       "order": null,
       "overflow": null,
       "overflow_x": null,
       "overflow_y": null,
       "padding": null,
       "right": null,
       "top": null,
       "visibility": null,
       "width": null
      }
     },
     "c58c8743e172463889340e5ca911db09": {
      "model_module": "@jupyter-widgets/controls",
      "model_module_version": "1.5.0",
      "model_name": "HTMLModel",
      "state": {
       "_dom_classes": [],
       "_model_module": "@jupyter-widgets/controls",
       "_model_module_version": "1.5.0",
       "_model_name": "HTMLModel",
       "_view_count": null,
       "_view_module": "@jupyter-widgets/controls",
       "_view_module_version": "1.5.0",
       "_view_name": "HTMLView",
       "description": "",
       "description_tooltip": null,
       "layout": "IPY_MODEL_abec6b0a345648b29f4632edba2ed691",
       "placeholder": "​",
       "style": "IPY_MODEL_6ccf11fdcf4b4af286d117ed231620eb",
       "value": "Downloading: 100%"
      }
     },
     "c8f6cd835bf64ef6ab9c27f693ea2d09": {
      "model_module": "@jupyter-widgets/controls",
      "model_module_version": "1.5.0",
      "model_name": "HBoxModel",
      "state": {
       "_dom_classes": [],
       "_model_module": "@jupyter-widgets/controls",
       "_model_module_version": "1.5.0",
       "_model_name": "HBoxModel",
       "_view_count": null,
       "_view_module": "@jupyter-widgets/controls",
       "_view_module_version": "1.5.0",
       "_view_name": "HBoxView",
       "box_style": "",
       "children": [
        "IPY_MODEL_7b4bc0f6e5ad418d9d94817f8e5baa03",
        "IPY_MODEL_e332631536eb44c0b8369f52586c399b",
        "IPY_MODEL_4bff0e93e4194756af2ae9f9b1a8e1bb"
       ],
       "layout": "IPY_MODEL_bbb91aff98d2435da7a549da78c2371b"
      }
     },
     "c8f84a70c19143eb810a3b539f8c0e29": {
      "model_module": "@jupyter-widgets/controls",
      "model_module_version": "1.5.0",
      "model_name": "ProgressStyleModel",
      "state": {
       "_model_module": "@jupyter-widgets/controls",
       "_model_module_version": "1.5.0",
       "_model_name": "ProgressStyleModel",
       "_view_count": null,
       "_view_module": "@jupyter-widgets/base",
       "_view_module_version": "1.2.0",
       "_view_name": "StyleView",
       "bar_color": null,
       "description_width": ""
      }
     },
     "c94d690f30d04b18b17cb98697a6d9eb": {
      "model_module": "@jupyter-widgets/base",
      "model_module_version": "1.2.0",
      "model_name": "LayoutModel",
      "state": {
       "_model_module": "@jupyter-widgets/base",
       "_model_module_version": "1.2.0",
       "_model_name": "LayoutModel",
       "_view_count": null,
       "_view_module": "@jupyter-widgets/base",
       "_view_module_version": "1.2.0",
       "_view_name": "LayoutView",
       "align_content": null,
       "align_items": null,
       "align_self": null,
       "border": null,
       "bottom": null,
       "display": null,
       "flex": null,
       "flex_flow": null,
       "grid_area": null,
       "grid_auto_columns": null,
       "grid_auto_flow": null,
       "grid_auto_rows": null,
       "grid_column": null,
       "grid_gap": null,
       "grid_row": null,
       "grid_template_areas": null,
       "grid_template_columns": null,
       "grid_template_rows": null,
       "height": null,
       "justify_content": null,
       "justify_items": null,
       "left": null,
       "margin": null,
       "max_height": null,
       "max_width": null,
       "min_height": null,
       "min_width": null,
       "object_fit": null,
       "object_position": null,
       "order": null,
       "overflow": null,
       "overflow_x": null,
       "overflow_y": null,
       "padding": null,
       "right": null,
       "top": null,
       "visibility": null,
       "width": null
      }
     },
     "d042a0efc081468fb33a168f38d07812": {
      "model_module": "@jupyter-widgets/base",
      "model_module_version": "1.2.0",
      "model_name": "LayoutModel",
      "state": {
       "_model_module": "@jupyter-widgets/base",
       "_model_module_version": "1.2.0",
       "_model_name": "LayoutModel",
       "_view_count": null,
       "_view_module": "@jupyter-widgets/base",
       "_view_module_version": "1.2.0",
       "_view_name": "LayoutView",
       "align_content": null,
       "align_items": null,
       "align_self": null,
       "border": null,
       "bottom": null,
       "display": null,
       "flex": null,
       "flex_flow": null,
       "grid_area": null,
       "grid_auto_columns": null,
       "grid_auto_flow": null,
       "grid_auto_rows": null,
       "grid_column": null,
       "grid_gap": null,
       "grid_row": null,
       "grid_template_areas": null,
       "grid_template_columns": null,
       "grid_template_rows": null,
       "height": null,
       "justify_content": null,
       "justify_items": null,
       "left": null,
       "margin": null,
       "max_height": null,
       "max_width": null,
       "min_height": null,
       "min_width": null,
       "object_fit": null,
       "object_position": null,
       "order": null,
       "overflow": null,
       "overflow_x": null,
       "overflow_y": null,
       "padding": null,
       "right": null,
       "top": null,
       "visibility": null,
       "width": null
      }
     },
     "dcac6887d05e4337a529d58774370487": {
      "model_module": "@jupyter-widgets/controls",
      "model_module_version": "1.5.0",
      "model_name": "HBoxModel",
      "state": {
       "_dom_classes": [],
       "_model_module": "@jupyter-widgets/controls",
       "_model_module_version": "1.5.0",
       "_model_name": "HBoxModel",
       "_view_count": null,
       "_view_module": "@jupyter-widgets/controls",
       "_view_module_version": "1.5.0",
       "_view_name": "HBoxView",
       "box_style": "",
       "children": [
        "IPY_MODEL_01d678a97d594fdd8667997a468d53a8",
        "IPY_MODEL_7181aeb2846e430598f99896b2463353",
        "IPY_MODEL_8b9d4a6b211e4932a23b262a7d4f6f15"
       ],
       "layout": "IPY_MODEL_234ac65c8c174a7f95581b08c88a7f96"
      }
     },
     "dee34adb156843fab232d246c6acd16d": {
      "model_module": "@jupyter-widgets/controls",
      "model_module_version": "1.5.0",
      "model_name": "HBoxModel",
      "state": {
       "_dom_classes": [],
       "_model_module": "@jupyter-widgets/controls",
       "_model_module_version": "1.5.0",
       "_model_name": "HBoxModel",
       "_view_count": null,
       "_view_module": "@jupyter-widgets/controls",
       "_view_module_version": "1.5.0",
       "_view_name": "HBoxView",
       "box_style": "",
       "children": [
        "IPY_MODEL_0d7f5804e2a740de9ceee794e1d7ccfd",
        "IPY_MODEL_2605704ceaee475da10ee4a81a7b61a5",
        "IPY_MODEL_bb449e3f87af4ba99b36514333b7757c"
       ],
       "layout": "IPY_MODEL_d042a0efc081468fb33a168f38d07812"
      }
     },
     "e332631536eb44c0b8369f52586c399b": {
      "model_module": "@jupyter-widgets/controls",
      "model_module_version": "1.5.0",
      "model_name": "FloatProgressModel",
      "state": {
       "_dom_classes": [],
       "_model_module": "@jupyter-widgets/controls",
       "_model_module_version": "1.5.0",
       "_model_name": "FloatProgressModel",
       "_view_count": null,
       "_view_module": "@jupyter-widgets/controls",
       "_view_module_version": "1.5.0",
       "_view_name": "ProgressView",
       "bar_style": "success",
       "description": "",
       "description_tooltip": null,
       "layout": "IPY_MODEL_0cee5c2baacf41a88e86a72ea961e7b5",
       "max": 231508.0,
       "min": 0.0,
       "orientation": "horizontal",
       "style": "IPY_MODEL_c8f84a70c19143eb810a3b539f8c0e29",
       "value": 231508.0
      }
     },
     "e41818533a6c463d9a477a391fb14d2b": {
      "model_module": "@jupyter-widgets/controls",
      "model_module_version": "1.5.0",
      "model_name": "HTMLModel",
      "state": {
       "_dom_classes": [],
       "_model_module": "@jupyter-widgets/controls",
       "_model_module_version": "1.5.0",
       "_model_name": "HTMLModel",
       "_view_count": null,
       "_view_module": "@jupyter-widgets/controls",
       "_view_module_version": "1.5.0",
       "_view_name": "HTMLView",
       "description": "",
       "description_tooltip": null,
       "layout": "IPY_MODEL_b8b0de1f501041bdbc654120a817c139",
       "placeholder": "​",
       "style": "IPY_MODEL_1c3077e48cb64e0aaf6109f023c7b221",
       "value": " 455k/455k [00:00&lt;00:00, 885kB/s]"
      }
     },
     "e923dc0bdf984de083a4d62fa6fc23af": {
      "model_module": "@jupyter-widgets/controls",
      "model_module_version": "1.5.0",
      "model_name": "HBoxModel",
      "state": {
       "_dom_classes": [],
       "_model_module": "@jupyter-widgets/controls",
       "_model_module_version": "1.5.0",
       "_model_name": "HBoxModel",
       "_view_count": null,
       "_view_module": "@jupyter-widgets/controls",
       "_view_module_version": "1.5.0",
       "_view_name": "HBoxView",
       "box_style": "",
       "children": [
        "IPY_MODEL_c58c8743e172463889340e5ca911db09",
        "IPY_MODEL_2d4c52e26c3b4fe291d99e4db153381c",
        "IPY_MODEL_524ef3a3e4084ec9989cac7ec27c50bb"
       ],
       "layout": "IPY_MODEL_c94d690f30d04b18b17cb98697a6d9eb"
      }
     },
     "eb82e3522e7341889cd4e2d070ebf4df": {
      "model_module": "@jupyter-widgets/base",
      "model_module_version": "1.2.0",
      "model_name": "LayoutModel",
      "state": {
       "_model_module": "@jupyter-widgets/base",
       "_model_module_version": "1.2.0",
       "_model_name": "LayoutModel",
       "_view_count": null,
       "_view_module": "@jupyter-widgets/base",
       "_view_module_version": "1.2.0",
       "_view_name": "LayoutView",
       "align_content": null,
       "align_items": null,
       "align_self": null,
       "border": null,
       "bottom": null,
       "display": null,
       "flex": null,
       "flex_flow": null,
       "grid_area": null,
       "grid_auto_columns": null,
       "grid_auto_flow": null,
       "grid_auto_rows": null,
       "grid_column": null,
       "grid_gap": null,
       "grid_row": null,
       "grid_template_areas": null,
       "grid_template_columns": null,
       "grid_template_rows": null,
       "height": null,
       "justify_content": null,
       "justify_items": null,
       "left": null,
       "margin": null,
       "max_height": null,
       "max_width": null,
       "min_height": null,
       "min_width": null,
       "object_fit": null,
       "object_position": null,
       "order": null,
       "overflow": null,
       "overflow_x": null,
       "overflow_y": null,
       "padding": null,
       "right": null,
       "top": null,
       "visibility": null,
       "width": null
      }
     },
     "f3c39f4d2a7e469d80ad8f6cb0429c6f": {
      "model_module": "@jupyter-widgets/controls",
      "model_module_version": "1.5.0",
      "model_name": "DescriptionStyleModel",
      "state": {
       "_model_module": "@jupyter-widgets/controls",
       "_model_module_version": "1.5.0",
       "_model_name": "DescriptionStyleModel",
       "_view_count": null,
       "_view_module": "@jupyter-widgets/base",
       "_view_module_version": "1.2.0",
       "_view_name": "StyleView",
       "description_width": ""
      }
     },
     "f5b083f675224a888aae726a6ea80f23": {
      "model_module": "@jupyter-widgets/base",
      "model_module_version": "1.2.0",
      "model_name": "LayoutModel",
      "state": {
       "_model_module": "@jupyter-widgets/base",
       "_model_module_version": "1.2.0",
       "_model_name": "LayoutModel",
       "_view_count": null,
       "_view_module": "@jupyter-widgets/base",
       "_view_module_version": "1.2.0",
       "_view_name": "LayoutView",
       "align_content": null,
       "align_items": null,
       "align_self": null,
       "border": null,
       "bottom": null,
       "display": null,
       "flex": null,
       "flex_flow": null,
       "grid_area": null,
       "grid_auto_columns": null,
       "grid_auto_flow": null,
       "grid_auto_rows": null,
       "grid_column": null,
       "grid_gap": null,
       "grid_row": null,
       "grid_template_areas": null,
       "grid_template_columns": null,
       "grid_template_rows": null,
       "height": null,
       "justify_content": null,
       "justify_items": null,
       "left": null,
       "margin": null,
       "max_height": null,
       "max_width": null,
       "min_height": null,
       "min_width": null,
       "object_fit": null,
       "object_position": null,
       "order": null,
       "overflow": null,
       "overflow_x": null,
       "overflow_y": null,
       "padding": null,
       "right": null,
       "top": null,
       "visibility": null,
       "width": null
      }
     }
    },
    "version_major": 2,
    "version_minor": 0
   }
  }
 },
 "nbformat": 4,
 "nbformat_minor": 5
}
